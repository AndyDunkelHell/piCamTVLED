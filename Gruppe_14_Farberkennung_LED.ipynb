{
 "cells": [
  {
   "cell_type": "code",
   "execution_count": 34,
   "metadata": {},
   "outputs": [],
   "source": [
    "# Import opencv for computer vision stuff\n",
    "import cv2\n",
    "# Import matplotlib so we can visualize an image\n",
    "from matplotlib import pyplot as plt\n",
    "import numpy as np\n",
    "import socket\n"
   ]
  },
  {
   "cell_type": "code",
   "execution_count": 35,
   "metadata": {},
   "outputs": [],
   "source": [
    "# Connect to capture device\n",
    "cap = cv2.VideoCapture(0)"
   ]
  },
  {
   "cell_type": "markdown",
   "metadata": {},
   "source": [
    "## Calculate the tiles in terms of x- and y-Steps\n",
    "\n",
    "the picture will be divided in a set number of Tiles according to the steps. The result is a Dictionary with the boundaris for each tile"
   ]
  },
  {
   "cell_type": "code",
   "execution_count": 36,
   "metadata": {},
   "outputs": [
    {
     "name": "stdout",
     "output_type": "stream",
     "text": [
      "480 640\n",
      "{'tile0': [0, 240, 0, 160], 'tile1': [0, 240, 160, 320], 'tile2': [0, 240, 320, 480], 'tile3': [0, 240, 480, 640], 'tile4': [240, 480, 0, 160], 'tile5': [240, 480, 160, 320], 'tile6': [240, 480, 320, 480], 'tile7': [240, 480, 480, 640]}\n"
     ]
    }
   ],
   "source": [
    "ret, frame = cap.read()\n",
    "\n",
    "y = 0\n",
    "yStep = 240\n",
    "\n",
    "x = 0 \n",
    "xStep = 160\n",
    "\n",
    "height, width, _ = np.shape(frame)\n",
    "print(height, width)\n",
    "\n",
    "coord_x = [] \n",
    "coord_y = []\n",
    "\n",
    "Tile_dict = {}\n",
    "\n",
    "while x < width:\n",
    "    coord_x.append([x, x+xStep])\n",
    "    x += xStep\n",
    "while y < height:\n",
    "    coord_y.append([y, y+yStep])\n",
    "    y += yStep\n",
    "\n",
    "i = 0\n",
    "while i < len(coord_x):\n",
    "    tile_str = \"tile\" + str(i)\n",
    "    Tile_dict[tile_str] = [coord_y[0][0], coord_y[0][1],coord_x[i][0],coord_x[i][1]]\n",
    "    i += 1\n",
    "\n",
    "j = 0\n",
    "\n",
    "while j < len(coord_x):\n",
    "    tile_str = \"tile\" + str(j+4)\n",
    "    Tile_dict[tile_str] = [coord_y[1][0], coord_y[1][1],coord_x[j][0],coord_x[j][1]]\n",
    "    j += 1\n",
    "\n",
    "\n",
    "print(Tile_dict)\n",
    "\n",
    "def create_rgb(color):\n",
    "    red, green, blue = int(color[0]), int(color[1]), int(color[2])\n",
    "    return (red, green, blue)\n",
    "\n",
    "def create_bar(height, width, color):\n",
    "    bar = np.zeros((height, width, 3), np.uint8)\n",
    "    bar[:] = color\n",
    "    red, green, blue = int(color[0]), int(color[1]), int(color[2])\n",
    "    return bar, (red, green, blue)\n",
    "\n",
    "for tileCoord in Tile_dict.values():\n",
    "    tile = frame[tileCoord[0]:tileCoord[1],tileCoord[2]:tileCoord[3]]\n"
   ]
  },
  {
   "cell_type": "markdown",
   "metadata": {},
   "source": [
    "## Function that returns the RGB values using a frame and the tiles boundaries"
   ]
  },
  {
   "cell_type": "code",
   "execution_count": 37,
   "metadata": {},
   "outputs": [],
   "source": [
    "def tilesRGB(frame, Tile_dict = {}):\n",
    "    k = 0\n",
    "    tiles_rgb_values = []\n",
    "    for tileCoord in Tile_dict.values():\n",
    "        tile = frame[tileCoord[0]:tileCoord[1],tileCoord[2]:tileCoord[3]]\n",
    "\n",
    "        img = tile\n",
    "        height, width, _ = np.shape(img)\n",
    "        # print(height, width)\n",
    "\n",
    "        data = np.reshape(img, (height * width, 3))\n",
    "        data = np.float32(data)\n",
    "\n",
    "        criteria = (cv2.TERM_CRITERIA_EPS + cv2.TERM_CRITERIA_MAX_ITER, 10, 1.0)\n",
    "        flags = cv2.KMEANS_RANDOM_CENTERS\n",
    "        compactness, labels, centers = cv2.kmeans(data, 1, None, criteria, 10, flags)\n",
    "        #print(centers)\n",
    "\n",
    "        rgb_values = []\n",
    "\n",
    "        for index, row in enumerate(centers):\n",
    "            rgb = create_rgb(row)\n",
    "            rgb_values.append(rgb)\n",
    "\n",
    "        tiles_rgb_values.append(rgb_values[0])\n",
    "        #print(rgb_values)\n",
    "        k+=1\n",
    "\n",
    "    return tiles_rgb_values\n",
    "\n",
    "\n",
    "        "
   ]
  },
  {
   "cell_type": "code",
   "execution_count": 38,
   "metadata": {},
   "outputs": [
    {
     "data": {
      "text/plain": [
       "[(192, 189, 184),\n",
       " (207, 206, 196),\n",
       " (233, 232, 218),\n",
       " (222, 220, 210),\n",
       " (130, 130, 129),\n",
       " (117, 116, 125),\n",
       " (221, 216, 215),\n",
       " (219, 215, 215)]"
      ]
     },
     "execution_count": 38,
     "metadata": {},
     "output_type": "execute_result"
    }
   ],
   "source": [
    "ret, frame = cap.read()\n",
    "tilesRGB(frame, Tile_dict)"
   ]
  },
  {
   "cell_type": "code",
   "execution_count": 39,
   "metadata": {
    "collapsed": true,
    "jupyter": {
     "outputs_hidden": true
    },
    "tags": []
   },
   "outputs": [
    {
     "name": "stdout",
     "output_type": "stream",
     "text": [
      "[[[129 131 126]\n",
      "  [128 129 126]\n",
      "  [128 129 127]\n",
      "  ...\n",
      "  [228 229 209]\n",
      "  [228 230 211]\n",
      "  [230 232 213]]\n",
      "\n",
      " [[129 129 126]\n",
      "  [128 129 126]\n",
      "  [128 129 126]\n",
      "  ...\n",
      "  [226 229 210]\n",
      "  [226 230 211]\n",
      "  [226 230 211]]\n",
      "\n",
      " [[130 128 127]\n",
      "  [128 129 126]\n",
      "  [124 128 124]\n",
      "  ...\n",
      "  [224 228 210]\n",
      "  [224 231 211]\n",
      "  [224 231 211]]\n",
      "\n",
      " ...\n",
      "\n",
      " [[ 87  93  88]\n",
      "  [ 88  94  89]\n",
      "  [ 86  92  87]\n",
      "  ...\n",
      "  [189 187 186]\n",
      "  [191 189 189]\n",
      "  [190 188 188]]\n",
      "\n",
      " [[ 86  93  86]\n",
      "  [ 85  91  86]\n",
      "  [ 84  90  85]\n",
      "  ...\n",
      "  [191 189 189]\n",
      "  [189 187 187]\n",
      "  [188 186 186]]\n",
      "\n",
      " [[ 86  93  86]\n",
      "  [ 84  91  85]\n",
      "  [ 84  90  85]\n",
      "  ...\n",
      "  [190 188 188]\n",
      "  [188 186 186]\n",
      "  [188 186 186]]]\n"
     ]
    }
   ],
   "source": [
    "print(frame)"
   ]
  },
  {
   "cell_type": "markdown",
   "metadata": {},
   "source": [
    "## Video and client that runs the video and sends the prominent RGB values for each tile to the Server (Pi)"
   ]
  },
  {
   "cell_type": "code",
   "execution_count": 41,
   "metadata": {},
   "outputs": [
    {
     "name": "stdout",
     "output_type": "stream",
     "text": [
      "Connection to server closed\n"
     ]
    }
   ],
   "source": [
    "# Connect to webcam\n",
    "cap = cv2.VideoCapture(0)\n",
    "\n",
    "    # create a socket object\n",
    "client = socket.socket(socket.AF_INET, socket.SOCK_STREAM)\n",
    "\n",
    "server_ip = \"192.168.88.101\"  # replace with the server's IP address\n",
    "server_port = 8000  # replace with the server's port number\n",
    "    # establish connection with server\n",
    "client.connect((server_ip, server_port))\n",
    "\n",
    "# Loop through every frame until we close our webcam\n",
    "while cap.isOpened(): \n",
    "    ret, frame = cap.read()\n",
    "    \n",
    "    # Show image \n",
    "    #print(tilesRGB(frame, Tile_dict), end=\"\\r\")\n",
    "\n",
    "    font = cv2.FONT_HERSHEY_SIMPLEX\n",
    "    bars = []\n",
    "    rgb_values = []\n",
    "    \n",
    "    for index, row in enumerate(tilesRGB(frame, Tile_dict)):\n",
    "        bar, rgb = create_bar(200, 200, row)\n",
    "        bars.append(bar)\n",
    "        rgb_values.append(rgb)\n",
    "\n",
    "    img_bar = np.hstack(bars)\n",
    "\n",
    "    for index, row in enumerate(rgb_values):\n",
    "        image = cv2.putText(img_bar, f'{index + 1}. RGB: {row}', (5 + 200 * index, 200 - 10),\n",
    "                            font, 0.5, (255, 0, 0), 1, cv2.LINE_AA)\n",
    "        #print(f'{index + 1}. RGB{row}')\n",
    "\n",
    "    cv2.imshow('Dominant colors', img_bar)\n",
    "    cv2.imshow('Webcam', frame)\n",
    "    \n",
    "    # Checks whether q has been hit and stops the loop\n",
    "    if cv2.waitKey(1) & 0xFF == ord('q'):\n",
    "        msg = \"close\"\n",
    "        client.send(msg.encode(\"utf-8\")[:1024])\n",
    "        break\n",
    "    else:\n",
    "        result = tilesRGB(frame, Tile_dict)\n",
    "        result_x = \"\"\n",
    "        for x in result:\n",
    "            str_x = str(x)\n",
    "            result_x += str_x[1:-1] + \",\" \n",
    "        #print (result_x)\n",
    "\n",
    "        client.send(result_x.encode(\"utf-8\")[:1024])\n",
    "\n",
    "            # receive message from the server\n",
    "        response = client.recv(1024)\n",
    "        response = response.decode(\"utf-8\")\n",
    "\n",
    "        print(f\"Received: {response}\", end=\"\\r\")\n",
    "\n",
    "\n",
    "# Releases the webcam\n",
    "client.close()\n",
    "print(\"Connection to server closed\")\n",
    "cap.release()\n",
    "# Closes the frame\n",
    "cv2.destroyAllWindows()"
   ]
  },
  {
   "cell_type": "markdown",
   "metadata": {},
   "source": [
    "## Raspberry Pi Server and Pixel Controller code"
   ]
  },
  {
   "cell_type": "code",
   "execution_count": 22,
   "metadata": {},
   "outputs": [
    {
     "ename": "ModuleNotFoundError",
     "evalue": "No module named 'board'",
     "output_type": "error",
     "traceback": [
      "\u001b[1;31m---------------------------------------------------------------------------\u001b[0m",
      "\u001b[1;31mModuleNotFoundError\u001b[0m                       Traceback (most recent call last)",
      "Cell \u001b[1;32mIn[22], line 5\u001b[0m\n\u001b[0;32m      3\u001b[0m \u001b[38;5;66;03m#include all neccessary packages to get LEDs to work with Raspberry Pi\u001b[39;00m\n\u001b[0;32m      4\u001b[0m \u001b[38;5;28;01mimport\u001b[39;00m \u001b[38;5;21;01mtime\u001b[39;00m\n\u001b[1;32m----> 5\u001b[0m \u001b[38;5;28;01mimport\u001b[39;00m \u001b[38;5;21;01mboard\u001b[39;00m\n\u001b[0;32m      6\u001b[0m \u001b[38;5;28;01mimport\u001b[39;00m \u001b[38;5;21;01mneopixel\u001b[39;00m\n\u001b[0;32m      8\u001b[0m \u001b[38;5;66;03m#Initialise a strips variable, provide the GPIO Data Pin\u001b[39;00m\n\u001b[0;32m      9\u001b[0m \u001b[38;5;66;03m#utilised and the amount of LED Nodes on strip and brightness (0 to 1 value)\u001b[39;00m\n",
      "\u001b[1;31mModuleNotFoundError\u001b[0m: No module named 'board'"
     ]
    }
   ],
   "source": [
    "import socket\n",
    "\n",
    "#include all neccessary packages to get LEDs to work with Raspberry Pi\n",
    "import time\n",
    "import board\n",
    "import neopixel\n",
    "\n",
    "#Initialise a strips variable, provide the GPIO Data Pin\n",
    "#utilised and the amount of LED Nodes on strip and brightness (0 to 1 value)\n",
    "pixels1 = neopixel.NeoPixel(board.D18, 55, brightness=1)\n",
    "\n",
    "#Also create an arbitary count variable\n",
    "x=0\n",
    "\n",
    "#Focusing on a particular strip, use the command Fill to make it all a single colour\n",
    "#based on decimal code R, G, B. Number can be anything from 255 - 0. Use a RGB Colour\n",
    "#Code Chart Website to quickly identify a desired fill colour.\n",
    "pixels1.fill((0, 220, 0))\n",
    "#Sleep for three seconds, You should now have all LEDs showing light with the first node\n",
    "#Showing a different colour\n",
    "time.sleep(4)\n",
    "\n",
    "#Complete the script by returning all the LED to off\n",
    "pixels1.fill((0, 0, 0))\n",
    "\n",
    "\n",
    "\n",
    "def run_server():\n",
    "    # create a socket object\n",
    "    server = socket.socket(socket.AF_INET, socket.SOCK_STREAM)\n",
    "\n",
    "    server_ip = \"192.168.88.101\"\n",
    "    port = 8000\n",
    "\n",
    "    # bind the socket to a specific address and port\n",
    "    server.bind((server_ip, port))\n",
    "    # listen for incoming connections\n",
    "    server.listen(0)\n",
    "    print(f\"Listening on {server_ip}:{port}\")\n",
    "\n",
    "    # accept incoming connections\n",
    "    client_socket, client_address = server.accept()\n",
    "    print(f\"Accepted connection from {client_address[0]}:{client_address[1]}\")\n",
    "\n",
    "    # receive data from the client\n",
    "    while True:\n",
    "        request = client_socket.recv(1024)\n",
    "        request = request.decode(\"utf-8\") # convert bytes to string\n",
    "\n",
    "        list_request = request.split(\",\")\n",
    "        #while x < 8:\n",
    "        try: \n",
    "            int_test = int(list_request[0])\n",
    "        except:\n",
    "            print(str(list_request[0]))\n",
    "        else:\n",
    "            pixels1[0] = (int(list_request[2]),int(list_request[1]), int(list_request[0]))\n",
    "            pixels1[1] = (int(list_request[5]),int(list_request[4]), int(list_request[3]))\n",
    "            pixels1[2] = (int(list_request[8]),int(list_request[7]), int(list_request[6]))\n",
    "            pixels1[3] = (int(list_request[11]),int(list_request[10]), int(list_request[9]))\n",
    "            pixels1[4] = (int(list_request[14]),int(list_request[13]), int(list_request[12]))\n",
    "            pixels1[5] = (int(list_request[17]),int(list_request[16]), int(list_request[15]))\n",
    "            pixels1[6] = (int(list_request[20]),int(list_request[19]), int(list_request[18]))\n",
    "            pixels1[7] = (int(list_request[23]),int(list_request[22]), int(list_request[21]))\n",
    "        #print(list_request[:2])\n",
    "\n",
    "        # if we receive \"close\" from the client, then we break\n",
    "        # out of the loop and close the conneciton\n",
    "        if request.lower() == \"close\":\n",
    "            # send response to the client which acknowledges that the\n",
    "            # connection should be closed and break out of the loop\n",
    "            client_socket.send(\"closed\".encode(\"utf-8\"))\n",
    "            break\n",
    "\n",
    "        #print(f\"Received: {request}\", end=\"\\r\")\n",
    "\n",
    "        response = \"accepted\".encode(\"utf-8\") # convert string to bytes\n",
    "        # convert and send accept response to the client\n",
    "        client_socket.send(response)\n",
    "\n",
    "    # close connection socket with the client\n",
    "    pixels1.fill((0, 0, 0))\n",
    "    client_socket.close()\n",
    "    print(\"Connection to client closed\")\n",
    "    # close server socket\n",
    "    server.close()\n",
    "\n",
    "\n",
    "run_server()\n"
   ]
  }
 ],
 "metadata": {
  "kernelspec": {
   "display_name": "Python 3",
   "language": "python",
   "name": "python3"
  },
  "language_info": {
   "codemirror_mode": {
    "name": "ipython",
    "version": 3
   },
   "file_extension": ".py",
   "mimetype": "text/x-python",
   "name": "python",
   "nbconvert_exporter": "python",
   "pygments_lexer": "ipython3",
   "version": "3.11.6"
  }
 },
 "nbformat": 4,
 "nbformat_minor": 4
}
